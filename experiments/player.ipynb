{
 "metadata": {
  "language_info": {
   "codemirror_mode": {
    "name": "ipython",
    "version": 3
   },
   "file_extension": ".py",
   "mimetype": "text/x-python",
   "name": "python",
   "nbconvert_exporter": "python",
   "pygments_lexer": "ipython3",
   "version": "3.9.2-final"
  },
  "orig_nbformat": 2,
  "kernelspec": {
   "name": "python3",
   "display_name": "Python 3.9.2 64-bit",
   "metadata": {
    "interpreter": {
     "hash": "7f548013dbd014ccd616e6d7246321b1e2d0086bf489ee44dc286fa55209a7ee"
    }
   }
  }
 },
 "nbformat": 4,
 "nbformat_minor": 2,
 "cells": [
  {
   "cell_type": "code",
   "execution_count": 59,
   "metadata": {},
   "outputs": [
    {
     "output_type": "execute_result",
     "data": {
      "text/plain": [
       "(94719, 94901)"
      ]
     },
     "metadata": {},
     "execution_count": 59
    }
   ],
   "source": [
    "import re\n",
    "import os\n",
    "import string\n",
    "\n",
    "def parse_sequence(path):\n",
    "    folder, name = os.path.split(path)\n",
    "    base, ext = os.path.splitext(name)\n",
    "    folder = os.path.dirname(path)\n",
    "    base_no_digits = base.rstrip(string.digits)\n",
    "    digits_length = len(base)-len(base_no_digits)\n",
    "    digits_match = \"d{\"+str(digits_length)+\"}\"\n",
    "\n",
    "    name_pattern = f\"{base_no_digits}\\{digits_match}\\{ext}$\"\n",
    "\n",
    "    files = sorted( [f for f in os.listdir(folder) if re.match(name_pattern, f)] )\n",
    "    first_file = os.path.splitext(files[0])[0]\n",
    "    last_file = os.path.splitext(files[-1])[0]\n",
    "    first_frame = int(first_file[-digits_length:])\n",
    "    last_frame = int(last_file[-digits_length:])\n",
    "\n",
    "    # compose sequence path eg: folder/filename_%5d.jpg\n",
    "    sequence_path = f\"{folder}/{base_no_digits}%0{digits_length}d{ext}\"\n",
    "\n",
    "    # return sequence metadata\n",
    "    return sequence_path, first_frame, last_frame\n",
    "\n",
    "path = \"R:/Frank/Preview/Andris/EF_VFX_04_MERGE_v60/EF_VFX_04_MERGE_v60_94719.jpg\"\n",
    "parse_sequence(path)"
   ]
  },
  {
   "cell_type": "code",
   "execution_count": null,
   "metadata": {},
   "outputs": [],
   "source": []
  }
 ]
}