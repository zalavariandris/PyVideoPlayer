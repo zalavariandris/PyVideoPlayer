{
 "metadata": {
  "language_info": {
   "codemirror_mode": {
    "name": "ipython",
    "version": 3
   },
   "file_extension": ".py",
   "mimetype": "text/x-python",
   "name": "python",
   "nbconvert_exporter": "python",
   "pygments_lexer": "ipython3",
   "version": "3.9.4-final"
  },
  "orig_nbformat": 2,
  "kernelspec": {
   "name": "python3",
   "display_name": "Python 3.9.4 64-bit",
   "metadata": {
    "interpreter": {
     "hash": "7f548013dbd014ccd616e6d7246321b1e2d0086bf489ee44dc286fa55209a7ee"
    }
   }
  }
 },
 "nbformat": 4,
 "nbformat_minor": 2,
 "cells": [
  {
   "cell_type": "code",
   "execution_count": 1,
   "metadata": {},
   "outputs": [],
   "source": [
    "import OpenImageIO as oiio\n",
    "import numpy as np\n",
    "import matplotlib.pyplot as plt"
   ]
  },
  {
   "cell_type": "code",
   "execution_count": 32,
   "metadata": {
    "tags": []
   },
   "outputs": [
    {
     "output_type": "error",
     "ename": "AssertionError",
     "evalue": "",
     "traceback": [
      "\u001b[1;31m---------------------------------------------------------------------------\u001b[0m",
      "\u001b[1;31mAssertionError\u001b[0m                            Traceback (most recent call last)",
      "\u001b[1;32m<ipython-input-32-18561cadbf78>\u001b[0m in \u001b[0;36m<module>\u001b[1;34m\u001b[0m\n\u001b[0;32m     13\u001b[0m \u001b[0mdst\u001b[0m \u001b[1;33m=\u001b[0m \u001b[0mImageBuf\u001b[0m\u001b[1;33m(\u001b[0m\u001b[0mspec\u001b[0m\u001b[1;33m)\u001b[0m\u001b[1;33m\u001b[0m\u001b[1;33m\u001b[0m\u001b[0m\n\u001b[0;32m     14\u001b[0m \u001b[0mres\u001b[0m \u001b[1;33m=\u001b[0m \u001b[0mImageBufAlgo\u001b[0m\u001b[1;33m.\u001b[0m\u001b[0mociodisplay\u001b[0m\u001b[1;33m(\u001b[0m\u001b[0mdst\u001b[0m\u001b[1;33m,\u001b[0m \u001b[0msrc\u001b[0m\u001b[1;33m,\u001b[0m \u001b[1;34m\"sRGB\"\u001b[0m\u001b[1;33m,\u001b[0m \u001b[1;34m\"Film\"\u001b[0m\u001b[1;33m,\u001b[0m \u001b[1;34m\"Inf\"\u001b[0m\u001b[1;33m)\u001b[0m\u001b[1;33m\u001b[0m\u001b[1;33m\u001b[0m\u001b[0m\n\u001b[1;32m---> 15\u001b[1;33m \u001b[1;32massert\u001b[0m \u001b[0mres\u001b[0m\u001b[1;33m\u001b[0m\u001b[1;33m\u001b[0m\u001b[0m\n\u001b[0m\u001b[0;32m     16\u001b[0m \u001b[1;33m\u001b[0m\u001b[0m\n\u001b[0;32m     17\u001b[0m \u001b[1;31m# get data\u001b[0m\u001b[1;33m\u001b[0m\u001b[1;33m\u001b[0m\u001b[1;33m\u001b[0m\u001b[0m\n",
      "\u001b[1;31mAssertionError\u001b[0m: "
     ]
    }
   ],
   "source": [
    "from OpenImageIO import ImageBuf, ImageSpec, ImageBufAlgo\n",
    "import colour\n",
    "\n",
    "\n",
    "# read\n",
    "path = \"E:/localize/EF_VFX_04/EF_VFX_04_0093778.dpx\"\n",
    "path = \"C:/Users/andris/Pictures/masa 0115.jpg\"\n",
    "inputImage = oiio.ImageBuf( path )\n",
    "\n",
    "# process\n",
    "src = ImageBufAlgo.colorconvert(inputImage, \"linear\", \"sRGB\")\n",
    "spec = ImageSpec (inputImage.spec().width, inputImage.spec().height, inputImage.spec().nchannels, oiio.UINT8)\n",
    "dst = ImageBuf(spec)\n",
    "res = ImageBufAlgo.ociodisplay(dst, src, \"sRGB\", \"Film\", \"Inf\")\n",
    "assert res\n",
    "\n",
    "# get data\n",
    "rgb = inputImage.get_pixels()\n",
    "\n",
    "# apply LUT with colour science\n",
    "lut = colour.read_LUT(\"./tests/AlexaV3_K1S1_LogC2Video_Rec709_EE_aftereffects3d.cube\")\n",
    "rgb = lut.apply(rgb)\n",
    "rgb = (rgb*255).astype(np.uint8)\n",
    "plt.imshow(rgb)\n"
   ]
  },
  {
   "cell_type": "code",
   "execution_count": null,
   "metadata": {},
   "outputs": [],
   "source": []
  }
 ]
}