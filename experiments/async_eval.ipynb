{
 "metadata": {
  "language_info": {
   "codemirror_mode": {
    "name": "ipython",
    "version": 3
   },
   "file_extension": ".py",
   "mimetype": "text/x-python",
   "name": "python",
   "nbconvert_exporter": "python",
   "pygments_lexer": "ipython3",
   "version": "3.9.4"
  },
  "orig_nbformat": 2,
  "kernelspec": {
   "name": "python394jvsc74a57bd07f548013dbd014ccd616e6d7246321b1e2d0086bf489ee44dc286fa55209a7ee",
   "display_name": "Python 3.9.4 64-bit"
  },
  "metadata": {
   "interpreter": {
    "hash": "7f548013dbd014ccd616e6d7246321b1e2d0086bf489ee44dc286fa55209a7ee"
   }
  }
 },
 "nbformat": 4,
 "nbformat_minor": 2,
 "cells": [
  {
   "cell_type": "code",
   "execution_count": 3,
   "metadata": {},
   "outputs": [
    {
     "output_type": "stream",
     "name": "stdout",
     "text": [
      "(720, 1280, 3)\nhello\n"
     ]
    }
   ],
   "source": [
    "import numpy as np\n",
    "from pathlib import Path\n",
    "import OpenImageIO as oiio\n",
    "\n",
    "def evaluate(path: str)->np.ndarray:\n",
    "    image = oiio.ImageBuf(path)\n",
    "    rgb = image.get_pixels()\n",
    "    return rgb\n",
    "\n",
    "path = \"../tests/resources/MASA_sequence/MASA_sequence_00196.jpg\"\n",
    "assert Path(path).exists()\n",
    "\n",
    "pixels = evaluate(path)\n",
    "print(pixels.shape)\n",
    "print(\"hello\")\n"
   ]
  },
  {
   "cell_type": "code",
   "execution_count": 3,
   "metadata": {},
   "outputs": [
    {
     "output_type": "stream",
     "name": "stdout",
     "text": [
      "read...\n",
      "read done!\n"
     ]
    }
   ],
   "source": [
    "import asyncio\n",
    "\n",
    "async def evaluate():\n",
    "    print('read...')\n",
    "    await asyncio.sleep(1)\n",
    "    print('read done!')\n",
    "    \n",
    "\n",
    "async def main():\n",
    "    await evaluate()\n",
    "\n",
    "# Python 3.7+\n",
    "await main()\n"
   ]
  },
  {
   "cell_type": "code",
   "execution_count": null,
   "metadata": {},
   "outputs": [],
   "source": []
  }
 ]
}